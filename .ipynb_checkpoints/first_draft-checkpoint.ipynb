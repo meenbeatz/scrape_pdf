{
 "cells": [
  {
   "cell_type": "code",
   "execution_count": 1,
   "metadata": {},
   "outputs": [
    {
     "name": "stdout",
     "output_type": "stream",
     "text": [
      "161082 2-27-20 SANTA CLARITA VALLEY WTR AGNCY BILLING.csv\n",
      "161082 2-27-20 SANTA CLARITA VALLEY WTR AGNCY BILLING.xlsx\n",
      "\u001b[31m2019-06-26_File Scraper.ipynb\u001b[m\u001b[m*\n",
      "\u001b[31m2019-07-01_Scrape and Extract Batch Release Info.ipynb\u001b[m\u001b[m*\n",
      "\u001b[31m2019-07-01_Scrape and Extract COA Info.ipynb\u001b[m\u001b[m*\n",
      "SCE Advice Letter.pdf\n",
      "Untitled.ipynb\n",
      "Untitled1.ipynb\n",
      "tou_8_option_e_below_2kv@20200101.csv\n"
     ]
    }
   ],
   "source": [
    "ls"
   ]
  },
  {
   "cell_type": "code",
   "execution_count": 2,
   "metadata": {},
   "outputs": [],
   "source": []
  },
  {
   "cell_type": "code",
   "execution_count": 11,
   "metadata": {},
   "outputs": [],
   "source": [
    "# https://www.blog.pythonlibrary.org/2018/05/03/exporting-data-from-pdfs-with-python/\n",
    "# https://regex101.com/\n",
    "\n",
    "%reset -f\n",
    "\n",
    "import os\n",
    "import matplotlib.pyplot as plt\n",
    "import pandas as pd\n",
    "import numpy as np\n",
    "import io\n",
    "import re\n",
    " \n",
    "from pdfminer.converter import TextConverter\n",
    "from pdfminer.pdfinterp import PDFPageInterpreter\n",
    "from pdfminer.pdfinterp import PDFResourceManager\n",
    "from pdfminer.pdfpage import PDFPage\n",
    "\n",
    "import os, fnmatch\n",
    "import glob\n",
    "import xlrd\n",
    "\n",
    "###\n",
    "def extract_text_from_pdf(pdf_path):\n",
    "    #text extract from pdf\n",
    "    resource_manager = PDFResourceManager()\n",
    "    fake_file_handle = io.StringIO()\n",
    "    converter = TextConverter(resource_manager, fake_file_handle)\n",
    "    page_interpreter = PDFPageInterpreter(resource_manager, converter)\n",
    " \n",
    "    with open(pdf_path, 'rb') as fh:\n",
    "        for page in PDFPage.get_pages(fh, \n",
    "                                      caching=True,\n",
    "                                      check_extractable=True):\n",
    "            page_interpreter.process_page(page)\n",
    " \n",
    "        text = fake_file_handle.getvalue()\n",
    " \n",
    "    #close open handles\n",
    "    converter.close()\n",
    "    fake_file_handle.close()\n",
    " \n",
    "    if text:\n",
    "        return text\n"
   ]
  },
  {
   "cell_type": "code",
   "execution_count": 12,
   "metadata": {},
   "outputs": [],
   "source": [
    "\n",
    "###\n",
    "cwd = os.getcwd()\n",
    "base_path = cwd.replace('scrape_pdf','')\n",
    "pdf_path = base_path+'pdfs'\n",
    "os.chdir(pdf_path)\n",
    "extension = 'pdf'\n",
    "file_list = glob.glob('*.{}'.format(extension))\n",
    "os.chdir(cwd)\n",
    "\n",
    "###\n",
    "filename = file_list[0]\n",
    "file_path = pdf_path+'/'+filename\n",
    "raw_txt = extract_text_from_pdf(file_path)"
   ]
  },
  {
   "cell_type": "code",
   "execution_count": 13,
   "metadata": {},
   "outputs": [],
   "source": []
  },
  {
   "cell_type": "code",
   "execution_count": null,
   "metadata": {},
   "outputs": [],
   "source": []
  },
  {
   "cell_type": "code",
   "execution_count": 15,
   "metadata": {},
   "outputs": [],
   "source": [
    "\n"
   ]
  },
  {
   "cell_type": "code",
   "execution_count": null,
   "metadata": {},
   "outputs": [],
   "source": []
  },
  {
   "cell_type": "code",
   "execution_count": null,
   "metadata": {},
   "outputs": [],
   "source": []
  }
 ],
 "metadata": {
  "kernelspec": {
   "display_name": "Python 3",
   "language": "python",
   "name": "python3"
  },
  "language_info": {
   "codemirror_mode": {
    "name": "ipython",
    "version": 3
   },
   "file_extension": ".py",
   "mimetype": "text/x-python",
   "name": "python",
   "nbconvert_exporter": "python",
   "pygments_lexer": "ipython3",
   "version": "3.7.3"
  }
 },
 "nbformat": 4,
 "nbformat_minor": 4
}
